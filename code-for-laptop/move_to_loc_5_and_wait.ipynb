{
 "cells": [
  {
   "cell_type": "code",
   "execution_count": 11,
   "metadata": {},
   "outputs": [],
   "source": [
    "import opentrons.execute\n",
    "\n",
    "# establish the API version \n",
    "protocol = opentrons.execute.get_protocol_api('2.11')\n",
    "\n",
    "# Must home before running \n",
    "protocol.home()"
   ]
  },
  {
   "cell_type": "code",
   "execution_count": 12,
   "metadata": {},
   "outputs": [],
   "source": [
    "deck_loc = '5'\n",
    "p300 = protocol.load_instrument('p300_single', 'right', tip_racks=None)  \n",
    "plate_source = protocol.load_labware('corning_96_wellplate_360ul_flat', deck_loc)"
   ]
  },
  {
   "cell_type": "code",
   "execution_count": 13,
   "metadata": {},
   "outputs": [
    {
     "name": "stdout",
     "output_type": "stream",
     "text": [
      "move robot to location 5\n",
      "Top of plate_source well E9 is at (218.88, 128.74, 14.219999999999999)\n"
     ]
    }
   ],
   "source": [
    "print( \"move robot to location 5\") \n",
    "well_name='E9' \n",
    "p300.move_to(plate_source[well_name].top(100), force_direct=False) # want high above well top\n",
    "loc=plate_source[well_name].top()\n",
    "print( \"Top of plate_source well %s is at %s\" % (well_name,  loc.point))"
   ]
  },
  {
   "cell_type": "code",
   "execution_count": null,
   "metadata": {},
   "outputs": [],
   "source": [
    "protocol.home()"
   ]
  },
  {
   "cell_type": "code",
   "execution_count": null,
   "metadata": {},
   "outputs": [],
   "source": [
    "# pt = types.Point(100,100,50)"
   ]
  }
 ],
 "metadata": {
  "kernelspec": {
   "display_name": "Python 3",
   "language": "python",
   "name": "python3"
  },
  "language_info": {
   "codemirror_mode": {
    "name": "ipython",
    "version": 3
   },
   "file_extension": ".py",
   "mimetype": "text/x-python",
   "name": "python",
   "nbconvert_exporter": "python",
   "pygments_lexer": "ipython3",
   "version": "3.7.1"
  }
 },
 "nbformat": 4,
 "nbformat_minor": 2
}
