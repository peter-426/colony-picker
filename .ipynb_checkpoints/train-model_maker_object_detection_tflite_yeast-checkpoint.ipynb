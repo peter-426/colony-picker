{
 "cells": [
  {
   "cell_type": "markdown",
   "metadata": {
    "id": "Gb7qyhNL1yWt"
   },
   "source": [
    "# Object Detection with TensorFlow Lite Model Maker"
   ]
  },
  {
   "cell_type": "markdown",
   "metadata": {
    "id": "2vvAObmTqglq"
   },
   "source": [
    "### Install the required packages\n",
    "Start by installing the required packages, including the Model Maker package from the [GitHub repo](https://github.com/tensorflow/examples/tree/master/tensorflow_examples/lite/model_maker) and the pycocotools library you'll use for evaluation."
   ]
  },
  {
   "cell_type": "code",
   "execution_count": 263,
   "metadata": {},
   "outputs": [],
   "source": [
    "#!pip install cryptography --upgrade"
   ]
  },
  {
   "cell_type": "code",
   "execution_count": 264,
   "metadata": {
    "execution": {
     "iopub.execute_input": "2021-05-17T11:21:11.419231Z",
     "iopub.status.busy": "2021-05-17T11:21:11.418690Z",
     "iopub.status.idle": "2021-05-17T11:21:30.029068Z",
     "shell.execute_reply": "2021-05-17T11:21:30.029484Z"
    },
    "id": "qhl8lqVamEty"
   },
   "outputs": [],
   "source": [
    "#!pip install tflite-model-maker\n",
    "#!pip install pycocotools"
   ]
  },
  {
   "cell_type": "code",
   "execution_count": 14,
   "metadata": {},
   "outputs": [],
   "source": [
    "#pip install tflite_model_maker"
   ]
  },
  {
   "cell_type": "markdown",
   "metadata": {
    "id": "l6lRhVK9Q_0U"
   },
   "source": [
    "Import the required packages."
   ]
  },
  {
   "cell_type": "code",
   "execution_count": 3,
   "metadata": {
    "execution": {
     "iopub.execute_input": "2021-05-17T11:21:30.034632Z",
     "iopub.status.busy": "2021-05-17T11:21:30.034032Z",
     "iopub.status.idle": "2021-05-17T11:21:38.196658Z",
     "shell.execute_reply": "2021-05-17T11:21:38.197054Z"
    },
    "id": "XtxiUeZEiXpt"
   },
   "outputs": [],
   "source": [
    "import matplotlib.pyplot as plt\n",
    "import numpy as np\n",
    "import os\n",
    "\n",
    "from PIL import Image\n",
    "\n",
    "from tflite_model_maker.config import ExportFormat\n",
    "from tflite_model_maker import model_spec\n",
    "from tflite_model_maker import object_detector\n",
    "\n",
    "import tensorflow as tf\n",
    "assert tf.__version__.startswith('2')\n",
    "\n",
    "tf.get_logger().setLevel('ERROR')\n",
    "from absl import logging\n",
    "logging.set_verbosity(logging.ERROR)"
   ]
  },
  {
   "cell_type": "code",
   "execution_count": 4,
   "metadata": {},
   "outputs": [
    {
     "name": "stdout",
     "output_type": "stream",
     "text": [
      "Python 3.9.4\r\n"
     ]
    },
    {
     "data": {
      "text/plain": [
       "'2.8.0'"
      ]
     },
     "execution_count": 4,
     "metadata": {},
     "output_type": "execute_result"
    }
   ],
   "source": [
    "!python --version\n",
    "tf.__version__\n"
   ]
  },
  {
   "cell_type": "markdown",
   "metadata": {
    "id": "BRd13bfetO7B"
   },
   "source": [
    "### Prepare the dataset\n",
    "\n",
    "How to prepare your own CSV file and the minimum requirements for creating a valid dataset: [Preparing your training data](https://cloud.google.com/vision/automl/object-detection/docs/prepare).\n",
    "\n",
    "Use a local path in your CSV file."
   ]
  },
  {
   "cell_type": "markdown",
   "metadata": {
    "id": "xushUyZXqP59"
   },
   "source": [
    "## Quickstart"
   ]
  },
  {
   "cell_type": "markdown",
   "metadata": {
    "id": "vn61LJ9QbOPi"
   },
   "source": [
    "Here is the performance of each EfficientDet-Lite models compared to each others.\n",
    "\n",
    "| Model architecture | Size(MB)* | Latency(ms)** | Average Precision*** |\n",
    "|--------------------|-----------|---------------|----------------------|\n",
    "| EfficientDet-Lite0 | 4.4       | 37            | 25.69%               |\n",
    "| EfficientDet-Lite1 | 5.8       | 49            | 30.55%               |\n",
    "| EfficientDet-Lite2 | 7.2       | 69            | 33.97%               |\n",
    "| EfficientDet-Lite3 | 11.4      | 116           | 37.70%               |\n",
    "| EfficientDet-Lite4 | 19.9      | 260           | 41.96%               |\n",
    "\n",
    "<i> * Size of the integer quantized models. <br/>\n",
    "** Latency measured on Pixel 4 using 4 threads on CPU. <br/>\n",
    "*** Average Precision is the mAP (mean Average Precision) on the COCO 2017 validation dataset.\n",
    "</i>"
   ]
  },
  {
   "cell_type": "code",
   "execution_count": 51,
   "metadata": {
    "execution": {
     "iopub.execute_input": "2021-05-17T11:21:39.471257Z",
     "iopub.status.busy": "2021-05-17T11:21:39.470332Z",
     "iopub.status.idle": "2021-05-17T11:21:39.472714Z",
     "shell.execute_reply": "2021-05-17T11:21:39.473050Z"
    },
    "id": "CtdZ-JDwMimd"
   },
   "outputs": [],
   "source": [
    "spec = model_spec.get('efficientdet_lite1')\n",
    "spec.config.max_instances_per_image=200\n",
    "spec.config.num_epochs=10       # start with small number for dev (1,5,or 10), optimal might be 50 or more epochs\n",
    "spec.config.num_classes=2            # carotene (orange), white\n",
    "spec.config.tflite_max_detections=100  # <<< default is 100\n",
    "spec.config.label_map={1: \"car\", 2: \"white\"} \n",
    "#print(spec.config)"
   ]
  },
  {
   "cell_type": "code",
   "execution_count": 52,
   "metadata": {},
   "outputs": [
    {
     "name": "stdout",
     "output_type": "stream",
     "text": [
      "/media/s0961819/neuro2019/UoE/phd-code/object-detection-api-tflite-yeast/data-set-maker/images-25-26-orange-white/train\n"
     ]
    }
   ],
   "source": [
    "%cd ./data-set-maker/images-25-26-orange-white/train"
   ]
  },
  {
   "cell_type": "code",
   "execution_count": 53,
   "metadata": {},
   "outputs": [
    {
     "data": {
      "text/plain": [
       "'/media/s0961819/neuro2019/UoE/phd-code/object-detection-api-tflite-yeast/data-set-maker/images-25-26-orange-white/train'"
      ]
     },
     "execution_count": 53,
     "metadata": {},
     "output_type": "execute_result"
    }
   ],
   "source": [
    "%pwd"
   ]
  },
  {
   "cell_type": "code",
   "execution_count": 54,
   "metadata": {},
   "outputs": [
    {
     "name": "stdout",
     "output_type": "stream",
     "text": [
      "\u001b[0m\u001b[01;32mtrain_labels-normed.csv\u001b[0m*        \u001b[01;32mtrain_labels_orange_white-rot.csv\u001b[0m*\r\n",
      "\u001b[01;32mtrain_labels_orange_white.csv\u001b[0m*\r\n"
     ]
    }
   ],
   "source": [
    "%ls *csv"
   ]
  },
  {
   "cell_type": "code",
   "execution_count": 55,
   "metadata": {
    "execution": {
     "iopub.execute_input": "2021-05-17T11:21:39.477568Z",
     "iopub.status.busy": "2021-05-17T11:21:39.476696Z",
     "iopub.status.idle": "2021-05-17T11:25:56.768503Z",
     "shell.execute_reply": "2021-05-17T11:25:56.767895Z"
    },
    "id": "HD5BvzWe6YKa",
    "scrolled": true
   },
   "outputs": [],
   "source": [
    "train_data, validation_data, test_data = object_detector.DataLoader.from_csv('train_labels-normed.csv')"
   ]
  },
  {
   "cell_type": "code",
   "execution_count": 56,
   "metadata": {},
   "outputs": [
    {
     "name": "stdout",
     "output_type": "stream",
     "text": [
      "/media/s0961819/neuro2019/UoE/phd-code/object-detection-api-tflite-yeast\n"
     ]
    }
   ],
   "source": [
    "%cd ../../.."
   ]
  },
  {
   "cell_type": "code",
   "execution_count": 57,
   "metadata": {},
   "outputs": [
    {
     "data": {
      "text/plain": [
       "'/media/s0961819/neuro2019/UoE/phd-code/object-detection-api-tflite-yeast'"
      ]
     },
     "execution_count": 57,
     "metadata": {},
     "output_type": "execute_result"
    }
   ],
   "source": [
    "%pwd"
   ]
  },
  {
   "cell_type": "code",
   "execution_count": 58,
   "metadata": {},
   "outputs": [
    {
     "name": "stdout",
     "output_type": "stream",
     "text": [
      "<class 'tensorflow_examples.lite.model_maker.core.data_util.object_detector_dataloader.DataLoader'>\n",
      "<class 'tensorflow_examples.lite.model_maker.core.data_util.object_detector_dataloader.DataLoader'>\n",
      "<class 'tensorflow_examples.lite.model_maker.core.data_util.object_detector_dataloader.DataLoader'>\n"
     ]
    }
   ],
   "source": [
    "print(type(train_data))\n",
    "print(type(validation_data))\n",
    "print(type(test_data))"
   ]
  },
  {
   "cell_type": "code",
   "execution_count": 59,
   "metadata": {
    "execution": {
     "iopub.execute_input": "2021-05-17T11:25:56.773412Z",
     "iopub.status.busy": "2021-05-17T11:25:56.772277Z",
     "iopub.status.idle": "2021-05-17T11:34:22.816952Z",
     "shell.execute_reply": "2021-05-17T11:34:22.816309Z"
    },
    "id": "kwlYdTcg63xy",
    "scrolled": false
   },
   "outputs": [
    {
     "name": "stdout",
     "output_type": "stream",
     "text": [
      "Epoch 1/10\n",
      "11/11 [==============================] - 64s 4s/step - det_loss: 2.1187 - cls_loss: 1.1379 - box_loss: 0.0196 - reg_l2_loss: 0.0706 - loss: 2.1892 - learning_rate: 0.0139 - gradient_norm: 0.7854 - val_det_loss: 1.6831 - val_cls_loss: 1.1111 - val_box_loss: 0.0114 - val_reg_l2_loss: 0.0706 - val_loss: 1.7536\n",
      "Epoch 2/10\n",
      "11/11 [==============================] - 39s 4s/step - det_loss: 1.8811 - cls_loss: 1.0646 - box_loss: 0.0163 - reg_l2_loss: 0.0706 - loss: 1.9516 - learning_rate: 0.0186 - gradient_norm: 0.9216 - val_det_loss: 1.4535 - val_cls_loss: 1.0006 - val_box_loss: 0.0091 - val_reg_l2_loss: 0.0706 - val_loss: 1.5241\n",
      "Epoch 3/10\n",
      "11/11 [==============================] - 39s 4s/step - det_loss: 1.6080 - cls_loss: 0.9238 - box_loss: 0.0137 - reg_l2_loss: 0.0706 - loss: 1.6785 - learning_rate: 0.0164 - gradient_norm: 1.5265 - val_det_loss: 1.4129 - val_cls_loss: 0.9323 - val_box_loss: 0.0096 - val_reg_l2_loss: 0.0706 - val_loss: 1.4835\n",
      "Epoch 4/10\n",
      "11/11 [==============================] - 40s 4s/step - det_loss: 1.3553 - cls_loss: 0.8317 - box_loss: 0.0105 - reg_l2_loss: 0.0706 - loss: 1.4259 - learning_rate: 0.0134 - gradient_norm: 1.7244 - val_det_loss: 1.5453 - val_cls_loss: 0.9446 - val_box_loss: 0.0120 - val_reg_l2_loss: 0.0706 - val_loss: 1.6159\n",
      "Epoch 5/10\n",
      "11/11 [==============================] - 42s 4s/step - det_loss: 1.2591 - cls_loss: 0.7651 - box_loss: 0.0099 - reg_l2_loss: 0.0706 - loss: 1.3296 - learning_rate: 0.0100 - gradient_norm: 1.7899 - val_det_loss: 1.2961 - val_cls_loss: 0.8061 - val_box_loss: 0.0098 - val_reg_l2_loss: 0.0706 - val_loss: 1.3667\n",
      "Epoch 6/10\n",
      "11/11 [==============================] - 40s 4s/step - det_loss: 1.1674 - cls_loss: 0.7550 - box_loss: 0.0082 - reg_l2_loss: 0.0706 - loss: 1.2380 - learning_rate: 0.0066 - gradient_norm: 1.3879 - val_det_loss: 1.3893 - val_cls_loss: 0.8198 - val_box_loss: 0.0114 - val_reg_l2_loss: 0.0706 - val_loss: 1.4599\n",
      "Epoch 7/10\n",
      "11/11 [==============================] - 38s 3s/step - det_loss: 1.0983 - cls_loss: 0.7002 - box_loss: 0.0080 - reg_l2_loss: 0.0706 - loss: 1.1689 - learning_rate: 0.0036 - gradient_norm: 1.4709 - val_det_loss: 1.4862 - val_cls_loss: 0.8375 - val_box_loss: 0.0130 - val_reg_l2_loss: 0.0706 - val_loss: 1.5568\n",
      "Epoch 8/10\n",
      "11/11 [==============================] - 38s 4s/step - det_loss: 1.1102 - cls_loss: 0.7272 - box_loss: 0.0077 - reg_l2_loss: 0.0706 - loss: 1.1808 - learning_rate: 0.0014 - gradient_norm: 1.4307 - val_det_loss: 1.4235 - val_cls_loss: 0.8168 - val_box_loss: 0.0121 - val_reg_l2_loss: 0.0706 - val_loss: 1.4941\n",
      "Epoch 9/10\n",
      "11/11 [==============================] - 38s 3s/step - det_loss: 1.0328 - cls_loss: 0.6668 - box_loss: 0.0073 - reg_l2_loss: 0.0706 - loss: 1.1034 - learning_rate: 2.1133e-04 - gradient_norm: 1.3792 - val_det_loss: 1.3512 - val_cls_loss: 0.7979 - val_box_loss: 0.0111 - val_reg_l2_loss: 0.0706 - val_loss: 1.4218\n",
      "Epoch 10/10\n",
      "11/11 [==============================] - 39s 4s/step - det_loss: 1.0895 - cls_loss: 0.7001 - box_loss: 0.0078 - reg_l2_loss: 0.0706 - loss: 1.1601 - learning_rate: 2.0226e-04 - gradient_norm: 2.1851 - val_det_loss: 1.2979 - val_cls_loss: 0.7844 - val_box_loss: 0.0103 - val_reg_l2_loss: 0.0706 - val_loss: 1.3685\n"
     ]
    }
   ],
   "source": [
    "#\n",
    "# this can take hours to run, so try with small data set and small number of epochs first, e.g. when debugging\n",
    "#\n",
    "# see spec.num_epochs above \n",
    "\n",
    "model = object_detector.create(train_data, model_spec=spec, batch_size=16, train_whole_model=True, validation_data=validation_data)"
   ]
  },
  {
   "cell_type": "markdown",
   "metadata": {
    "id": "-BzCHLWJ6h7q"
   },
   "source": [
    "**Evaluate the model with the test data.**\n",
    "\n",
    "The evaluation metrics are same as [COCO](https://cocodataset.org/#detection-eval)."
   ]
  },
  {
   "cell_type": "code",
   "execution_count": 60,
   "metadata": {
    "execution": {
     "iopub.execute_input": "2021-05-17T11:34:22.825958Z",
     "iopub.status.busy": "2021-05-17T11:34:22.825331Z",
     "iopub.status.idle": "2021-05-17T11:34:29.934544Z",
     "shell.execute_reply": "2021-05-17T11:34:29.934924Z"
    },
    "id": "8xmnl6Yy7ARn"
   },
   "outputs": [
    {
     "name": "stdout",
     "output_type": "stream",
     "text": [
      "1/1 [==============================] - 4s 4s/step\n",
      "\n"
     ]
    },
    {
     "data": {
      "text/plain": [
       "{'AP': 0.013423249,\n",
       " 'AP50': 0.04284271,\n",
       " 'AP75': 0.0042027123,\n",
       " 'APs': 0.0,\n",
       " 'APm': 0.016950099,\n",
       " 'APl': 0.00020120724,\n",
       " 'ARmax1': 0.0076286765,\n",
       " 'ARmax10': 0.033590216,\n",
       " 'ARmax100': 0.059226528,\n",
       " 'ARs': 0.0,\n",
       " 'ARm': 0.05954325,\n",
       " 'ARl': 0.1,\n",
       " 'AP_/car': 0.021372067,\n",
       " 'AP_/white': 0.0054744314}"
      ]
     },
     "execution_count": 60,
     "metadata": {},
     "output_type": "execute_result"
    }
   ],
   "source": [
    "model.evaluate(test_data)  # AP average precision: higher is better"
   ]
  },
  {
   "cell_type": "code",
   "execution_count": 37,
   "metadata": {},
   "outputs": [],
   "source": [
    "pred=model.model.make_predict_function()"
   ]
  },
  {
   "cell_type": "code",
   "execution_count": 38,
   "metadata": {},
   "outputs": [],
   "source": [
    "# Export TensorFlow (not Lite) model, see folders\n",
    "model.export(export_dir='.', export_format=[ExportFormat.SAVED_MODEL, ExportFormat.LABEL])"
   ]
  },
  {
   "cell_type": "markdown",
   "metadata": {
    "id": "CgCDMe0e6jlT"
   },
   "source": [
    "**Step 5.  Export as a TensorFlow Lite model.**\n",
    "\n",
    "Default post-training quantization technique is full integer quantization."
   ]
  },
  {
   "cell_type": "code",
   "execution_count": 39,
   "metadata": {},
   "outputs": [
    {
     "data": {
      "text/plain": [
       "'/media/s0961819/neuro2019/UoE/phd-code/object-detection-api-tflite-yeast'"
      ]
     },
     "execution_count": 39,
     "metadata": {},
     "output_type": "execute_result"
    }
   ],
   "source": [
    "%pwd"
   ]
  },
  {
   "cell_type": "code",
   "execution_count": 61,
   "metadata": {
    "execution": {
     "iopub.execute_input": "2021-05-17T11:34:29.939219Z",
     "iopub.status.busy": "2021-05-17T11:34:29.938269Z",
     "iopub.status.idle": "2021-05-17T11:35:47.590470Z",
     "shell.execute_reply": "2021-05-17T11:35:47.589881Z"
    },
    "id": "Hm_UULdW7A9T"
   },
   "outputs": [],
   "source": [
    "# Saves as Lite model, this might take a few minutes, will see model.tflite in current folder\n",
    "model.export(export_dir='.')"
   ]
  },
  {
   "cell_type": "markdown",
   "metadata": {
    "id": "ZQpahAIBqBPp"
   },
   "source": [
    "**Step 6.  Evaluate the TensorFlow Lite model.**\n",
    "\n",
    "Several factors can affect the model accuracy when exporting to TFLite:\n",
    "* [Quantization](https://www.tensorflow.org/lite/performance/model_optimization) helps shrinking the model size by 4 times at the expense of some accuracy drop.\n",
    "* The original TensorFlow model uses per-class [non-max supression (NMS)](https://www.coursera.org/lecture/convolutional-neural-networks/non-max-suppression-dvrjH) for post-processing, while the TFLite model uses global NMS that's much faster but less accurate.\n",
    "Keras outputs maximum 100 detections while tflite outputs maximum 25 detections.\n",
    "\n",
    "Evaluate the exported TFLite model and compare its accuracy with the original TensorFlow model."
   ]
  },
  {
   "cell_type": "code",
   "execution_count": 26,
   "metadata": {
    "execution": {
     "iopub.execute_input": "2021-05-17T11:35:47.594877Z",
     "iopub.status.busy": "2021-05-17T11:35:47.594348Z",
     "iopub.status.idle": "2021-05-17T11:36:45.071692Z",
     "shell.execute_reply": "2021-05-17T11:36:45.071243Z"
    },
    "id": "RS3Ell_lqH4e"
   },
   "outputs": [
    {
     "name": "stdout",
     "output_type": "stream",
     "text": [
      "28/28 [==============================] - 86s 3s/step\n",
      "\n"
     ]
    },
    {
     "data": {
      "text/plain": [
       "{'AP': 0.01334385,\n",
       " 'AP50': 0.0463233,\n",
       " 'AP75': 0.0030537874,\n",
       " 'APs': -1.0,\n",
       " 'APm': 0.023046548,\n",
       " 'APl': -1.0,\n",
       " 'ARmax1': 0.005,\n",
       " 'ARmax10': 0.04796875,\n",
       " 'ARmax100': 0.07671875,\n",
       " 'ARs': -1.0,\n",
       " 'ARm': 0.07671875,\n",
       " 'ARl': -1.0,\n",
       " 'AP_/car': 0.012081001,\n",
       " 'AP_/white': 0.014606699}"
      ]
     },
     "execution_count": 26,
     "metadata": {},
     "output_type": "execute_result"
    }
   ],
   "source": [
    "model.evaluate_tflite('model.tflite', test_data)   # *** default filename ***"
   ]
  },
  {
   "cell_type": "code",
   "execution_count": null,
   "metadata": {},
   "outputs": [],
   "source": []
  }
 ],
 "metadata": {
  "accelerator": "GPU",
  "colab": {
   "collapsed_sections": [],
   "name": "Model Maker Object Detection Tutorial",
   "provenance": [
    {
     "file_id": "1dbRXQCjtm-jBFC32DJ6YCVXnXBOG3M5t",
     "timestamp": 1613441434239
    },
    {
     "file_id": "https://github.com/tensorflow/tensorflow/blob/master/tensorflow/lite/g3doc/tutorials/model_maker_text_classification.ipynb",
     "timestamp": 1612303859066
    }
   ],
   "toc_visible": true
  },
  "kernelspec": {
   "display_name": "Python 3",
   "language": "python",
   "name": "python3"
  },
  "language_info": {
   "codemirror_mode": {
    "name": "ipython",
    "version": 3
   },
   "file_extension": ".py",
   "mimetype": "text/x-python",
   "name": "python",
   "nbconvert_exporter": "python",
   "pygments_lexer": "ipython3",
   "version": "3.8.10"
  }
 },
 "nbformat": 4,
 "nbformat_minor": 1
}
